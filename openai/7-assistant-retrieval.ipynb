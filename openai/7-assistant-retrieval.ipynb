{
 "cells": [
  {
   "cell_type": "code",
   "execution_count": 8,
   "id": "40f14856",
   "metadata": {},
   "outputs": [],
   "source": [
    "import openai\n",
    "import pandas as pd\n",
    "import os\n",
    "from dotenv import load_dotenv\n",
    "\n",
    "load_dotenv()\n",
    "\n",
    "client = openai.Client()\n",
    "openai.api_key = os.getenv(\"OPENAI_API_KEY\")"
   ]
  },
  {
   "cell_type": "code",
   "execution_count": 9,
   "id": "e05fca18",
   "metadata": {},
   "outputs": [],
   "source": [
    "vector_store = client.vector_stores.create(\n",
    "    name=\"Tutor de Apostilas\"\n",
    ")    "
   ]
  },
  {
   "cell_type": "code",
   "execution_count": 10,
   "id": "9713be46",
   "metadata": {},
   "outputs": [],
   "source": [
    "file = [\"files/LLM.pdf\"]\n",
    "file_stream = [open(f, \"rb\") for f in file]\n",
    "file_batch = client.vector_stores.file_batches.upload_and_poll(\n",
    "    vector_store_id=vector_store.id,\n",
    "    files=file_stream\n",
    ")"
   ]
  },
  {
   "cell_type": "code",
   "execution_count": 11,
   "id": "07eeb978",
   "metadata": {},
   "outputs": [
    {
     "data": {
      "text/plain": [
       "'completed'"
      ]
     },
     "execution_count": 11,
     "metadata": {},
     "output_type": "execute_result"
    }
   ],
   "source": [
    "file_batch.status"
   ]
  },
  {
   "cell_type": "code",
   "execution_count": 13,
   "id": "2c1ed152",
   "metadata": {},
   "outputs": [
    {
     "data": {
      "text/plain": [
       "FileCounts(cancelled=0, completed=1, failed=0, in_progress=0, total=1)"
      ]
     },
     "execution_count": 13,
     "metadata": {},
     "output_type": "execute_result"
    }
   ],
   "source": [
    "file_batch.file_counts"
   ]
  },
  {
   "cell_type": "code",
   "execution_count": 20,
   "id": "235e8a55",
   "metadata": {},
   "outputs": [],
   "source": [
    "assistant = client.beta.assistants.create(\n",
    "    name=\"Tutor de Apostilas\",\n",
    "    instructions=\"Você é um tutor especializado em tecnologias emergentes \\\n",
    "        Você sabe responder perguntas sobre LLMs como OpenAI, HuggingFace, etc \\\n",
    "            Caso você não encontre as respostas, seja sincero e fale que você não sabe responder\",\n",
    "    tools=[{\"type\": \"file_search\"}],\n",
    "    tool_resources={\"file_search\": {\"vector_store_ids\": [vector_store.id]}},\n",
    "    # tool_resources=[{\"vector_store_ids\": [vector_store.id]}],\n",
    "    model=\"gpt-4-turbo-preview\"\n",
    "\n",
    ")"
   ]
  },
  {
   "cell_type": "code",
   "execution_count": 21,
   "id": "f39e7b00",
   "metadata": {},
   "outputs": [],
   "source": [
    "pergunta = \"COnforme o documento o que é Hugging Face?\""
   ]
  },
  {
   "cell_type": "code",
   "execution_count": 22,
   "id": "593d6e45",
   "metadata": {},
   "outputs": [],
   "source": [
    "# Criação da Thread\n",
    "thread = client.beta.threads.create()\n",
    "message = client.beta.threads.messages.create(\n",
    "    thread_id=thread.id,\n",
    "    role=\"user\",\n",
    "    content=pergunta\n",
    ")"
   ]
  },
  {
   "cell_type": "code",
   "execution_count": 23,
   "id": "0d0a1736",
   "metadata": {},
   "outputs": [],
   "source": [
    "# Executa a thread\n",
    "run = client.beta.threads.runs.create(\n",
    "    thread_id=thread.id,\n",
    "    assistant_id=assistant.id,\n",
    "    instructions=\"Nome de usuário premium\"\n",
    ")"
   ]
  },
  {
   "cell_type": "code",
   "execution_count": 24,
   "id": "1f2200ad",
   "metadata": {},
   "outputs": [],
   "source": [
    "# Aguarda a thread ser executada\n",
    "import time\n",
    "while run.status in [\"queued\", \"in_progress\", \"cancelling\"]:\n",
    "    time.sleep(1)\n",
    "    run = client.beta.threads.runs.retrieve(\n",
    "        thread_id=thread.id,\n",
    "        run_id=run.id\n",
    "    )"
   ]
  },
  {
   "cell_type": "code",
   "execution_count": 25,
   "id": "238081df",
   "metadata": {},
   "outputs": [
    {
     "name": "stdout",
     "output_type": "stream",
     "text": [
      "SyncCursorPage[Message](data=[Message(id='msg_kJkBCz37cqVUcQweA0X3yYRt', assistant_id='asst_tYaiSanJTW9aHEoUoTRlcRQX', attachments=[], completed_at=None, content=[TextContentBlock(text=Text(annotations=[FileCitationAnnotation(end_index=597, file_citation=FileCitation(file_id='file-MPV9FkT5Ma8yMmZeTne8ke'), start_index=584, text='【4:0†LLM.pdf】', type='file_citation')], value='Hugging Face é destacada no documento como uma comunidade de código aberto que compilou centenas de milhares de modelos de contribuidores. Esses modelos são úteis para resolver várias tarefas específicas, como geração de texto, resumo e classificação. A documentação realça a importância de se recorrer à comunidade de código aberto para acessar modelos de linguagem, mencionando como a Hugging Face e outras comunidades semelhantes estão se aproximando dos desempenhos de modelos proprietários, embora ainda não tenham alcançado o desempenho de modelos de nível extremo, como o GPT-4【4:0†LLM.pdf】.'), type='text')], created_at=1752018183, incomplete_at=None, incomplete_details=None, metadata={}, object='thread.message', role='assistant', run_id='run_jyvxW9Vv7Gbj5dnRSU9R0fDf', status=None, thread_id='thread_noyJGkIWiycvBG4IpHT7Iv50'), Message(id='msg_b83nOMTKl0HFHogGMBticYNo', assistant_id=None, attachments=[], completed_at=None, content=[TextContentBlock(text=Text(annotations=[], value='COnforme o documento o que é Hugging Face?'), type='text')], created_at=1752018161, incomplete_at=None, incomplete_details=None, metadata={}, object='thread.message', role='user', run_id=None, status=None, thread_id='thread_noyJGkIWiycvBG4IpHT7Iv50')], has_more=False, object='list', first_id='msg_kJkBCz37cqVUcQweA0X3yYRt', last_id='msg_b83nOMTKl0HFHogGMBticYNo')\n"
     ]
    }
   ],
   "source": [
    "# Verificar resposta\n",
    "if run.status == \"completed\":\n",
    "    mensagens = client.beta.threads.messages.list(\n",
    "        thread_id=thread.id\n",
    "    )\n",
    "    print(mensagens)\n",
    "else:\n",
    "    print(f\"Erro: {run.status}\")"
   ]
  },
  {
   "cell_type": "code",
   "execution_count": 26,
   "id": "486ce896",
   "metadata": {},
   "outputs": [],
   "source": [
    "# Analisando os passos do modelo\n",
    "run_steps = client.beta.threads.runs.steps.list(\n",
    "    thread_id=thread.id,\n",
    "    run_id=run.id\n",
    ")"
   ]
  },
  {
   "cell_type": "code",
   "execution_count": 27,
   "id": "deaef768",
   "metadata": {},
   "outputs": [
    {
     "name": "stdout",
     "output_type": "stream",
     "text": [
      "\n",
      "====Step tool_calls\n",
      "\n",
      "====Step message_creation\n",
      "Hugging Face é destacada no documento como uma comunidade de código aberto que compilou centenas de milhares de modelos de contribuidores. Esses modelos são úteis para resolver várias tarefas específicas, como geração de texto, resumo e classificação. A documentação realça a importância de se recorrer à comunidade de código aberto para acessar modelos de linguagem, mencionando como a Hugging Face e outras comunidades semelhantes estão se aproximando dos desempenhos de modelos proprietários, embora ainda não tenham alcançado o desempenho de modelos de nível extremo, como o GPT-4【4:0†LLM.pdf】.\n"
     ]
    }
   ],
   "source": [
    "for step in run_steps.data[::-1]:\n",
    "    print(f\"\\n====Step {step.step_details.type}\")\n",
    "    if step.step_details.type == \"tool_cals\":\n",
    "        for tool_call in step.step_details.tool_calls:\n",
    "            print(\"=\" *10)\n",
    "            print(tool_call.code_interpreter.input)\n",
    "            print(\"=\" *10)\n",
    "    if step.step_details.type == \"message_creation\":\n",
    "        message = client.beta.threads.messages.retrieve(\n",
    "            thread_id=thread.id,\n",
    "            message_id=step.step_details.message_creation.message_id\n",
    "        )\n",
    "        if message.content[0].type == \"text\":\n",
    "            print(message.content[0].text.value)\n",
    "        if message.content[0].type == \"image_file\":\n",
    "            file_id = message.content[0].image_file.file_id\n",
    "            image_data = client.files.content(file_id)\n",
    "            with open(f\"files/{file.id}.png\", \"wb\") as f:\n",
    "                f.write(image_data.read())\n",
    "                print(f\"Imagem {file_id} salva\")\n",
    "        # print(message.content[0].text.value)"
   ]
  },
  {
   "cell_type": "code",
   "execution_count": 28,
   "id": "62acdab3",
   "metadata": {},
   "outputs": [
    {
     "name": "stdout",
     "output_type": "stream",
     "text": [
      "Hugging Face é destacada no documento como uma comunidade de código aberto que compilou centenas de milhares de modelos de contribuidores. Esses modelos são úteis para resolver várias tarefas específicas, como geração de texto, resumo e classificação. A documentação realça a importância de se recorrer à comunidade de código aberto para acessar modelos de linguagem, mencionando como a Hugging Face e outras comunidades semelhantes estão se aproximando dos desempenhos de modelos proprietários, embora ainda não tenham alcançado o desempenho de modelos de nível extremo, como o GPT-4【4:0†LLM.pdf】.\n"
     ]
    }
   ],
   "source": [
    "print(mensagens.data[0].content[0].text.value)"
   ]
  },
  {
   "cell_type": "code",
   "execution_count": null,
   "id": "2c040232",
   "metadata": {},
   "outputs": [],
   "source": []
  }
 ],
 "metadata": {
  "kernelspec": {
   "display_name": ".venv (3.13.2)",
   "language": "python",
   "name": "python3"
  },
  "language_info": {
   "codemirror_mode": {
    "name": "ipython",
    "version": 3
   },
   "file_extension": ".py",
   "mimetype": "text/x-python",
   "name": "python",
   "nbconvert_exporter": "python",
   "pygments_lexer": "ipython3",
   "version": "3.13.2"
  }
 },
 "nbformat": 4,
 "nbformat_minor": 5
}
