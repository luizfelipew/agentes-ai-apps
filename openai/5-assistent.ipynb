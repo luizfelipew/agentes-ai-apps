{
 "cells": [
  {
   "cell_type": "code",
   "execution_count": 20,
   "id": "1ac3d4e3",
   "metadata": {},
   "outputs": [
    {
     "data": {
      "text/plain": [
       "True"
      ]
     },
     "execution_count": 20,
     "metadata": {},
     "output_type": "execute_result"
    }
   ],
   "source": [
    "import openai\n",
    "import os\n",
    "from dotenv import load_dotenv\n",
    "\n",
    "load_dotenv()"
   ]
  },
  {
   "cell_type": "code",
   "execution_count": 21,
   "id": "0353a59d",
   "metadata": {},
   "outputs": [],
   "source": [
    "client = openai.Client()\n",
    "openai.api_key = os.getenv(\"OPENAI_API_KEY\")"
   ]
  },
  {
   "cell_type": "code",
   "execution_count": 22,
   "id": "4c8dea1e",
   "metadata": {},
   "outputs": [],
   "source": [
    "assistant = client.beta.assistants.create(\n",
    "    name=\"Tutor de tecnologia\",\n",
    "    instructions=\"Você é um tutor sobre assuntos relacionados a tecnologia.\",\n",
    "    tools=[{\"type\": \"code_interpreter\"}],\n",
    "    model=\"gpt-3.5-turbo-0125\"\n",
    ")"
   ]
  },
  {
   "cell_type": "code",
   "execution_count": 23,
   "id": "4982d7f5",
   "metadata": {},
   "outputs": [],
   "source": [
    "pergunta = \"\"\"\n",
    "Em um sistema de cache com mapeamento direito, dado uma memória principal de uma cache \n",
    "de 256 KB e blocos de 64 bytes\n",
    "- Quantas linhas existem na cache?\n",
    "- onde o bloco de endereço 0x1A2B3C será mapeado na cache?\n",
    "\"\"\""
   ]
  },
  {
   "cell_type": "code",
   "execution_count": 24,
   "id": "50510e11",
   "metadata": {},
   "outputs": [],
   "source": [
    "# Criação da Thread\n",
    "thread = client.beta.threads.create()\n",
    "message = client.beta.threads.messages.create(\n",
    "    thread_id=thread.id,\n",
    "    role=\"user\",\n",
    "    content=pergunta\n",
    ")"
   ]
  },
  {
   "cell_type": "code",
   "execution_count": 25,
   "id": "d7c0d3ff",
   "metadata": {},
   "outputs": [],
   "source": [
    "# Executa a thread\n",
    "run = client.beta.threads.runs.create(\n",
    "    thread_id=thread.id,\n",
    "    assistant_id=assistant.id,\n",
    "    instructions=\"Nome de usuário premium\"\n",
    ")"
   ]
  },
  {
   "cell_type": "code",
   "execution_count": 26,
   "id": "08592ae7",
   "metadata": {},
   "outputs": [
    {
     "data": {
      "text/plain": [
       "'queued'"
      ]
     },
     "execution_count": 26,
     "metadata": {},
     "output_type": "execute_result"
    }
   ],
   "source": [
    "run.status"
   ]
  },
  {
   "cell_type": "code",
   "execution_count": 27,
   "id": "5bee38cf",
   "metadata": {},
   "outputs": [],
   "source": [
    "# Aguarda a thread ser executada\n",
    "import time\n",
    "while run.status in [\"queued\", \"in_progress\", \"cancelling\"]:\n",
    "    time.sleep(1)\n",
    "    run = client.beta.threads.runs.retrieve(\n",
    "        thread_id=thread.id,\n",
    "        run_id=run.id\n",
    "    )"
   ]
  },
  {
   "cell_type": "code",
   "execution_count": 28,
   "id": "2549ad25",
   "metadata": {},
   "outputs": [
    {
     "name": "stdout",
     "output_type": "stream",
     "text": [
      "SyncCursorPage[Message](data=[Message(id='msg_oacqIebjglSd6oDWMdPezUil', assistant_id='asst_Lo5QwDya3RqOXGAkTmrnaSjs', attachments=[], completed_at=None, content=[TextContentBlock(text=Text(annotations=[], value='O bloco de endereço 0x1A2B3C será mapeado na linha 2876 da cache.'), type='text')], created_at=1746577826, incomplete_at=None, incomplete_details=None, metadata={}, object='thread.message', role='assistant', run_id='run_hLTYqgUYHK9SDdWuhCWO6KPQ', status=None, thread_id='thread_RzAPsxT5vYrNlffzjMtdmUJw'), Message(id='msg_WPJBCRdLuDdAFKhaQPG6OQgh', assistant_id='asst_Lo5QwDya3RqOXGAkTmrnaSjs', attachments=[], completed_at=None, content=[TextContentBlock(text=Text(annotations=[], value='Os bits de indexação do endereço 0x1A2B3C são: 101100111100\\n\\nIsso significa que esses bits são usados para determinar a linha na cache onde o bloco será mapeado. Vamos converter esses bits para decimal para identificar a linha exata na cache.'), type='text')], created_at=1746577824, incomplete_at=None, incomplete_details=None, metadata={}, object='thread.message', role='assistant', run_id='run_hLTYqgUYHK9SDdWuhCWO6KPQ', status=None, thread_id='thread_RzAPsxT5vYrNlffzjMtdmUJw'), Message(id='msg_tyi2VQuN4TDY7tlmFJliojBk', assistant_id='asst_Lo5QwDya3RqOXGAkTmrnaSjs', attachments=[], completed_at=None, content=[TextContentBlock(text=Text(annotations=[], value='O endereço do bloco 0x1A2B3C em binário é: 000110100010101100111100\\n\\nAgora, vamos identificar quais bits do endereço são utilizados para indexar a linha na cache no caso de mapeamento direto. Em um sistema com mapeamento direto, os bits do endereço são divididos em três partes:\\n\\n1. **Offset**: Bits que identificam o byte específico dentro de um bloco.\\n2. **Index**: Bits que são usados para indexar a linha na cache.\\n3. **Tag**: Bits restantes que são comparados com a tag armazenada em cada linha da cache para verificar se o bloco está presente ou não.\\n\\nPara identificar a posição onde o bloco de endereço 0x1A2B3C será mapeado na cache, precisamos considerar o número de linhas na cache e os bits de indexação do endereço. Vamos fazer isso a seguir.'), type='text')], created_at=1746577820, incomplete_at=None, incomplete_details=None, metadata={}, object='thread.message', role='assistant', run_id='run_hLTYqgUYHK9SDdWuhCWO6KPQ', status=None, thread_id='thread_RzAPsxT5vYrNlffzjMtdmUJw'), Message(id='msg_LgsrGEKX4YeWKwWTAVWvaqUc', assistant_id='asst_Lo5QwDya3RqOXGAkTmrnaSjs', attachments=[], completed_at=None, content=[TextContentBlock(text=Text(annotations=[], value='A cache com mapeamento direto possui 4096 linhas.\\n\\nAgora, para determinar onde o bloco de endereço 0x1A2B3C será mapeado na cache, precisamos analisar o endereço do bloco em binário e então identificar os bits relevantes para o mapeamento.\\n\\nO endereço 0x1A2B3C em hexadecimal é:\\n\\n- 0x1A2B3C = 000110100010101100111100\\n\\nVamos converter este endereço hexadecimal para binário e identificar os bits relevantes para o mapeamento.'), type='text')], created_at=1746577817, incomplete_at=None, incomplete_details=None, metadata={}, object='thread.message', role='assistant', run_id='run_hLTYqgUYHK9SDdWuhCWO6KPQ', status=None, thread_id='thread_RzAPsxT5vYrNlffzjMtdmUJw'), Message(id='msg_UWDtsPGGnYookH95vkUAviDW', assistant_id='asst_Lo5QwDya3RqOXGAkTmrnaSjs', attachments=[], completed_at=None, content=[TextContentBlock(text=Text(annotations=[], value='Para calcular a quantidade de linhas na cache com mapeamento direto, precisamos dividir o tamanho da cache pelo tamanho de cada bloco.\\n\\nDado que:\\n- Tamanho da cache = 256 KB = 256 * 1024 bytes\\n- Tamanho de bloco = 64 bytes\\n\\nPodemos calcular o número total de linhas na cache. Vamos fazer isso primeiro. Em seguida, calcularemos a posição em que o bloco de endereço 0x1A2B3C será mapeado na cache.'), type='text')], created_at=1746577813, incomplete_at=None, incomplete_details=None, metadata={}, object='thread.message', role='assistant', run_id='run_hLTYqgUYHK9SDdWuhCWO6KPQ', status=None, thread_id='thread_RzAPsxT5vYrNlffzjMtdmUJw'), Message(id='msg_1otQiOEBSrxHgOKcVK1IVRoY', assistant_id=None, attachments=[], completed_at=None, content=[TextContentBlock(text=Text(annotations=[], value='\\nEm um sistema de cache com mapeamento direito, dado uma memória principal de uma cache \\nde 256 KB e blocos de 64 bytes\\n- Quantas linhas existem na cache?\\n- onde o bloco de endereço 0x1A2B3C será mapeado na cache?\\n'), type='text')], created_at=1746577810, incomplete_at=None, incomplete_details=None, metadata={}, object='thread.message', role='user', run_id=None, status=None, thread_id='thread_RzAPsxT5vYrNlffzjMtdmUJw')], has_more=False, object='list', first_id='msg_oacqIebjglSd6oDWMdPezUil', last_id='msg_1otQiOEBSrxHgOKcVK1IVRoY')\n"
     ]
    }
   ],
   "source": [
    "# Verificar resposta\n",
    "if run.status == \"completed\":\n",
    "    mensagens = client.beta.threads.messages.list(\n",
    "        thread_id=thread.id\n",
    "    )\n",
    "    print(mensagens)\n",
    "else:\n",
    "    print(f\"Erro: {run.status}\")"
   ]
  },
  {
   "cell_type": "code",
   "execution_count": 29,
   "id": "082877ad",
   "metadata": {},
   "outputs": [
    {
     "name": "stdout",
     "output_type": "stream",
     "text": [
      "O bloco de endereço 0x1A2B3C será mapeado na linha 2876 da cache.\n"
     ]
    }
   ],
   "source": [
    "print(mensagens.data[0].content[0].text.value)"
   ]
  },
  {
   "cell_type": "code",
   "execution_count": 31,
   "id": "2e76d972",
   "metadata": {},
   "outputs": [],
   "source": [
    "# Analisando os passos do modelo\n",
    "run_steps = client.beta.threads.runs.steps.list(\n",
    "    thread_id=thread.id,\n",
    "    run_id=run.id\n",
    ")"
   ]
  },
  {
   "cell_type": "code",
   "execution_count": 32,
   "id": "6be60230",
   "metadata": {},
   "outputs": [
    {
     "name": "stdout",
     "output_type": "stream",
     "text": [
      "\n",
      "====Step message_creation\n",
      "Para calcular a quantidade de linhas na cache com mapeamento direto, precisamos dividir o tamanho da cache pelo tamanho de cada bloco.\n",
      "\n",
      "Dado que:\n",
      "- Tamanho da cache = 256 KB = 256 * 1024 bytes\n",
      "- Tamanho de bloco = 64 bytes\n",
      "\n",
      "Podemos calcular o número total de linhas na cache. Vamos fazer isso primeiro. Em seguida, calcularemos a posição em que o bloco de endereço 0x1A2B3C será mapeado na cache.\n",
      "\n",
      "====Step tool_calls\n",
      "\n",
      "====Step message_creation\n",
      "A cache com mapeamento direto possui 4096 linhas.\n",
      "\n",
      "Agora, para determinar onde o bloco de endereço 0x1A2B3C será mapeado na cache, precisamos analisar o endereço do bloco em binário e então identificar os bits relevantes para o mapeamento.\n",
      "\n",
      "O endereço 0x1A2B3C em hexadecimal é:\n",
      "\n",
      "- 0x1A2B3C = 000110100010101100111100\n",
      "\n",
      "Vamos converter este endereço hexadecimal para binário e identificar os bits relevantes para o mapeamento.\n",
      "\n",
      "====Step tool_calls\n",
      "\n",
      "====Step message_creation\n",
      "O endereço do bloco 0x1A2B3C em binário é: 000110100010101100111100\n",
      "\n",
      "Agora, vamos identificar quais bits do endereço são utilizados para indexar a linha na cache no caso de mapeamento direto. Em um sistema com mapeamento direto, os bits do endereço são divididos em três partes:\n",
      "\n",
      "1. **Offset**: Bits que identificam o byte específico dentro de um bloco.\n",
      "2. **Index**: Bits que são usados para indexar a linha na cache.\n",
      "3. **Tag**: Bits restantes que são comparados com a tag armazenada em cada linha da cache para verificar se o bloco está presente ou não.\n",
      "\n",
      "Para identificar a posição onde o bloco de endereço 0x1A2B3C será mapeado na cache, precisamos considerar o número de linhas na cache e os bits de indexação do endereço. Vamos fazer isso a seguir.\n",
      "\n",
      "====Step tool_calls\n",
      "\n",
      "====Step message_creation\n",
      "Os bits de indexação do endereço 0x1A2B3C são: 101100111100\n",
      "\n",
      "Isso significa que esses bits são usados para determinar a linha na cache onde o bloco será mapeado. Vamos converter esses bits para decimal para identificar a linha exata na cache.\n",
      "\n",
      "====Step tool_calls\n",
      "\n",
      "====Step message_creation\n",
      "O bloco de endereço 0x1A2B3C será mapeado na linha 2876 da cache.\n"
     ]
    }
   ],
   "source": [
    "for step in run_steps.data[::-1]:\n",
    "    print(f\"\\n====Step {step.step_details.type}\")\n",
    "    if step.step_details.type == \"tool_cals\":\n",
    "        for tool_call in step.step_details.tool_calls:\n",
    "            print(\"=\" *10)\n",
    "            print(tool_call.code_interpreter.input)\n",
    "            print(\"=\" *10)\n",
    "    if step.step_details.type == \"message_creation\":\n",
    "        message = client.beta.threads.messages.retrieve(\n",
    "            thread_id=thread.id,\n",
    "            message_id=step.step_details.message_creation.message_id\n",
    "        )\n",
    "        print(message.content[0].text.value)"
   ]
  },
  {
   "cell_type": "code",
   "execution_count": null,
   "id": "cd1c4215",
   "metadata": {},
   "outputs": [],
   "source": []
  }
 ],
 "metadata": {
  "kernelspec": {
   "display_name": ".venv",
   "language": "python",
   "name": "python3"
  },
  "language_info": {
   "codemirror_mode": {
    "name": "ipython",
    "version": 3
   },
   "file_extension": ".py",
   "mimetype": "text/x-python",
   "name": "python",
   "nbconvert_exporter": "python",
   "pygments_lexer": "ipython3",
   "version": "3.13.2"
  }
 },
 "nbformat": 4,
 "nbformat_minor": 5
}
