{
 "cells": [
  {
   "cell_type": "code",
   "execution_count": 16,
   "id": "bd011e90",
   "metadata": {},
   "outputs": [],
   "source": [
    "import openai\n",
    "import pandas as pd\n",
    "import os\n",
    "from dotenv import load_dotenv\n",
    "\n",
    "load_dotenv()\n",
    "\n",
    "client = openai.Client()\n",
    "openai.api_key = os.getenv(\"OPENAI_API_KEY\")"
   ]
  },
  {
   "cell_type": "code",
   "execution_count": 17,
   "id": "febe3285",
   "metadata": {},
   "outputs": [],
   "source": [
    "file = client.files.create(\n",
    "    file=open(\"sales_data.csv\", \"rb\"),\n",
    "    purpose=\"assistants\"\n",
    ")"
   ]
  },
  {
   "cell_type": "code",
   "execution_count": 18,
   "id": "d949ae57",
   "metadata": {},
   "outputs": [
    {
     "name": "stdout",
     "output_type": "stream",
     "text": [
      "file-Y9GcTekRZnshT9NTQdzv6G\n"
     ]
    }
   ],
   "source": [
    "print(file.id)"
   ]
  },
  {
   "cell_type": "code",
   "execution_count": 19,
   "id": "2d7ff76f",
   "metadata": {},
   "outputs": [],
   "source": [
    "assistant = client.beta.assistants.create(\n",
    "    name=\"Anaista de Dados\",\n",
    "    instructions=\"Você é um analista que analisa dados sobre vendas.\",\n",
    "    tools=[{\"type\": \"code_interpreter\"}],\n",
    "    tool_resources={\"code_interpreter\": {\"file_ids\": [file.id]}},\n",
    "    model=\"gpt-4o\"\n",
    ")"
   ]
  },
  {
   "cell_type": "code",
   "execution_count": 20,
   "id": "73dac80d",
   "metadata": {},
   "outputs": [],
   "source": [
    "# pergunta = \"Qual rating médio das vendas do supermercado?\"\n",
    "pergunta = \"Gere um gráfico de pizza com o percentual de vendas por linha de produto\""
   ]
  },
  {
   "cell_type": "code",
   "execution_count": 21,
   "id": "f07e7a65",
   "metadata": {},
   "outputs": [],
   "source": [
    "# Criação da Thread\n",
    "thread = client.beta.threads.create()\n",
    "message = client.beta.threads.messages.create(\n",
    "    thread_id=thread.id,\n",
    "    role=\"user\",\n",
    "    content=pergunta\n",
    ")"
   ]
  },
  {
   "cell_type": "code",
   "execution_count": 22,
   "id": "52ee9863",
   "metadata": {},
   "outputs": [],
   "source": [
    "# Executa a thread\n",
    "run = client.beta.threads.runs.create(\n",
    "    thread_id=thread.id,\n",
    "    assistant_id=assistant.id,\n",
    "    instructions=\"Nome de usuário premium\"\n",
    ")"
   ]
  },
  {
   "cell_type": "code",
   "execution_count": 24,
   "id": "da4aef77",
   "metadata": {},
   "outputs": [],
   "source": [
    "# Aguarda a thread ser executada\n",
    "import time\n",
    "while run.status in [\"queued\", \"in_progress\", \"cancelling\"]:\n",
    "    time.sleep(1)\n",
    "    run = client.beta.threads.runs.retrieve(\n",
    "        thread_id=thread.id,\n",
    "        run_id=run.id\n",
    "    )"
   ]
  },
  {
   "cell_type": "code",
   "execution_count": 25,
   "id": "851382ae",
   "metadata": {},
   "outputs": [
    {
     "name": "stdout",
     "output_type": "stream",
     "text": [
      "SyncCursorPage[Message](data=[Message(id='msg_zyHSCHjkoJAsDrOJwjLqVB3z', assistant_id='asst_HJn3Aszj4LGQ8ny2W7gNnfMH', attachments=[], completed_at=None, content=[ImageFileContentBlock(image_file=ImageFile(file_id='file-QL6mi99SwvFUKfyYHEByGf', detail=None), type='image_file'), TextContentBlock(text=Text(annotations=[], value='Aqui está o gráfico de pizza que mostra o percentual de vendas por linha de produto. Cada segmento do gráfico representa a proporção de vendas de uma categoria de produto específica em relação ao total de vendas. Se precisar de mais alguma coisa, é só me avisar!'), type='text')], created_at=1747272341, incomplete_at=None, incomplete_details=None, metadata={}, object='thread.message', role='assistant', run_id='run_ExfnSj7qT0qV66yJoAOSdkpS', status=None, thread_id='thread_CkEPpxZXumhIyZbqhVzL33I6'), Message(id='msg_JIn4JMWhjoLiYvk9AnshTmYg', assistant_id='asst_HJn3Aszj4LGQ8ny2W7gNnfMH', attachments=[], completed_at=None, content=[TextContentBlock(text=Text(annotations=[], value='O arquivo foi carregado com sucesso como um arquivo CSV. Agora, podemos observar que ele contém uma coluna chamada \"Product line\", que parece se referir à linha de produtos. Usarei essa coluna para calcular o percentual de vendas por linha de produto e gerar um gráfico de pizza. \\n\\nVamos prosseguir com isso.'), type='text')], created_at=1747272334, incomplete_at=None, incomplete_details=None, metadata={}, object='thread.message', role='assistant', run_id='run_ExfnSj7qT0qV66yJoAOSdkpS', status=None, thread_id='thread_CkEPpxZXumhIyZbqhVzL33I6'), Message(id='msg_0vEVgCFTMWcvfLSzwKIxVcOj', assistant_id='asst_HJn3Aszj4LGQ8ny2W7gNnfMH', attachments=[], completed_at=None, content=[TextContentBlock(text=Text(annotations=[], value='Parece que o arquivo não é um documento do Excel válido, ou ele pode ter sido salvo com uma extensão incorreta. Vamos tentar abri-lo como um arquivo CSV, que é outro formato comum para dados tabulares.'), type='text')], created_at=1747272330, incomplete_at=None, incomplete_details=None, metadata={}, object='thread.message', role='assistant', run_id='run_ExfnSj7qT0qV66yJoAOSdkpS', status=None, thread_id='thread_CkEPpxZXumhIyZbqhVzL33I6'), Message(id='msg_sGieT2PrpoM0kRp3neCeQyfw', assistant_id='asst_HJn3Aszj4LGQ8ny2W7gNnfMH', attachments=[], completed_at=None, content=[TextContentBlock(text=Text(annotations=[], value='Ocorreu um erro ao tentar carregar o arquivo. É possível que o arquivo não seja um documento do Excel ou que o formato dele não tenha sido reconhecido automaticamente. Vou tentar carregar o arquivo novamente, especificando manualmente os tipos de engine possíveis para leitura de Excel, como `openpyxl` ou `xlrd`. Vamos ver se isso resolve o problema.'), type='text')], created_at=1747272324, incomplete_at=None, incomplete_details=None, metadata={}, object='thread.message', role='assistant', run_id='run_ExfnSj7qT0qV66yJoAOSdkpS', status=None, thread_id='thread_CkEPpxZXumhIyZbqhVzL33I6'), Message(id='msg_9ndA28d24tuNIcpsmgboJz4V', assistant_id='asst_HJn3Aszj4LGQ8ny2W7gNnfMH', attachments=[], completed_at=None, content=[TextContentBlock(text=Text(annotations=[], value='Primeiro, vou examinar o conteúdo do arquivo para entender sua estrutura e identificar os dados necessários para gerar o gráfico de pizza.'), type='text')], created_at=1747272320, incomplete_at=None, incomplete_details=None, metadata={}, object='thread.message', role='assistant', run_id='run_ExfnSj7qT0qV66yJoAOSdkpS', status=None, thread_id='thread_CkEPpxZXumhIyZbqhVzL33I6'), Message(id='msg_YRHR5byx6TMqW0kdTgT6kHCa', assistant_id=None, attachments=[], completed_at=None, content=[TextContentBlock(text=Text(annotations=[], value='Gere um gráfico de pizza com o percentual de vendas por linha de produto'), type='text')], created_at=1747272316, incomplete_at=None, incomplete_details=None, metadata={}, object='thread.message', role='user', run_id=None, status=None, thread_id='thread_CkEPpxZXumhIyZbqhVzL33I6')], has_more=False, object='list', first_id='msg_zyHSCHjkoJAsDrOJwjLqVB3z', last_id='msg_YRHR5byx6TMqW0kdTgT6kHCa')\n"
     ]
    }
   ],
   "source": [
    "# Verificar resposta\n",
    "if run.status == \"completed\":\n",
    "    mensagens = client.beta.threads.messages.list(\n",
    "        thread_id=thread.id\n",
    "    )\n",
    "    print(mensagens)\n",
    "else:\n",
    "    print(f\"Erro: {run.status}\")"
   ]
  },
  {
   "cell_type": "code",
   "execution_count": 31,
   "id": "7f95d957",
   "metadata": {},
   "outputs": [
    {
     "ename": "AttributeError",
     "evalue": "'ImageFileContentBlock' object has no attribute 'text'",
     "output_type": "error",
     "traceback": [
      "\u001b[31m---------------------------------------------------------------------------\u001b[39m",
      "\u001b[31mAttributeError\u001b[39m                            Traceback (most recent call last)",
      "\u001b[36mCell\u001b[39m\u001b[36m \u001b[39m\u001b[32mIn[31]\u001b[39m\u001b[32m, line 1\u001b[39m\n\u001b[32m----> \u001b[39m\u001b[32m1\u001b[39m \u001b[43mmensagens\u001b[49m\u001b[43m.\u001b[49m\u001b[43mdata\u001b[49m\u001b[43m[\u001b[49m\u001b[32;43m0\u001b[39;49m\u001b[43m]\u001b[49m\u001b[43m.\u001b[49m\u001b[43mcontent\u001b[49m\u001b[43m[\u001b[49m\u001b[32;43m0\u001b[39;49m\u001b[43m]\u001b[49m\u001b[43m.\u001b[49m\u001b[43mtext\u001b[49m.value\n",
      "\u001b[36mFile \u001b[39m\u001b[32m~/Documents/git/AI/Exploring-LLMs/agents/agentes-ai-apps/.venv/lib/python3.13/site-packages/pydantic/main.py:891\u001b[39m, in \u001b[36m__getattr__\u001b[39m\u001b[34m(self, item)\u001b[39m\n\u001b[32m      0\u001b[39m <Error retrieving source code with stack_data see ipython/ipython#13598>\n",
      "\u001b[31mAttributeError\u001b[39m: 'ImageFileContentBlock' object has no attribute 'text'"
     ]
    }
   ],
   "source": [
    "mensagens.data[0].content[0].text.value"
   ]
  },
  {
   "cell_type": "code",
   "execution_count": 27,
   "id": "5d503cd1",
   "metadata": {},
   "outputs": [],
   "source": [
    "# Analisando os passos do modelo\n",
    "run_steps = client.beta.threads.runs.steps.list(\n",
    "    thread_id=thread.id,\n",
    "    run_id=run.id\n",
    ")"
   ]
  },
  {
   "cell_type": "code",
   "execution_count": null,
   "id": "0651d397",
   "metadata": {},
   "outputs": [
    {
     "name": "stdout",
     "output_type": "stream",
     "text": [
      "\n",
      "====Step message_creation\n",
      "Primeiro, vou examinar o conteúdo do arquivo para entender sua estrutura e identificar os dados necessários para gerar o gráfico de pizza.\n",
      "\n",
      "====Step tool_calls\n",
      "\n",
      "====Step message_creation\n",
      "Ocorreu um erro ao tentar carregar o arquivo. É possível que o arquivo não seja um documento do Excel ou que o formato dele não tenha sido reconhecido automaticamente. Vou tentar carregar o arquivo novamente, especificando manualmente os tipos de engine possíveis para leitura de Excel, como `openpyxl` ou `xlrd`. Vamos ver se isso resolve o problema.\n",
      "\n",
      "====Step tool_calls\n",
      "\n",
      "====Step message_creation\n",
      "Parece que o arquivo não é um documento do Excel válido, ou ele pode ter sido salvo com uma extensão incorreta. Vamos tentar abri-lo como um arquivo CSV, que é outro formato comum para dados tabulares.\n",
      "\n",
      "====Step tool_calls\n",
      "\n",
      "====Step message_creation\n",
      "O arquivo foi carregado com sucesso como um arquivo CSV. Agora, podemos observar que ele contém uma coluna chamada \"Product line\", que parece se referir à linha de produtos. Usarei essa coluna para calcular o percentual de vendas por linha de produto e gerar um gráfico de pizza. \n",
      "\n",
      "Vamos prosseguir com isso.\n",
      "\n",
      "====Step tool_calls\n",
      "\n",
      "====Step message_creation\n",
      "Imagem file-QL6mi99SwvFUKfyYHEByGf salva\n"
     ]
    }
   ],
   "source": [
    "for step in run_steps.data[::-1]:\n",
    "    print(f\"\\n====Step {step.step_details.type}\")\n",
    "    if step.step_details.type == \"tool_cals\":\n",
    "        for tool_call in step.step_details.tool_calls:\n",
    "            print(\"=\" *10)\n",
    "            print(tool_call.code_interpreter.input)\n",
    "            print(\"=\" *10)\n",
    "    if step.step_details.type == \"message_creation\":\n",
    "        message = client.beta.threads.messages.retrieve(\n",
    "            thread_id=thread.id,\n",
    "            message_id=step.step_details.message_creation.message_id\n",
    "        )\n",
    "        if message.content[0].type == \"text\":\n",
    "            print(message.content[0].text.value)\n",
    "        if message.content[0].type == \"image_file\":\n",
    "            file_id = message.content[0].image_file.file_id\n",
    "            image_data = client.files.content(file_id)\n",
    "            with open(f\"files/{file.id}.png\", \"wb\") as f:\n",
    "                f.write(image_data.read())\n",
    "                print(f\"Imagem {file_id} salva\")\n",
    "        # print(message.content[0].text.value)"
   ]
  },
  {
   "cell_type": "code",
   "execution_count": null,
   "id": "7fb5471d",
   "metadata": {},
   "outputs": [],
   "source": []
  }
 ],
 "metadata": {
  "kernelspec": {
   "display_name": ".venv",
   "language": "python",
   "name": "python3"
  },
  "language_info": {
   "codemirror_mode": {
    "name": "ipython",
    "version": 3
   },
   "file_extension": ".py",
   "mimetype": "text/x-python",
   "name": "python",
   "nbconvert_exporter": "python",
   "pygments_lexer": "ipython3",
   "version": "3.13.2"
  }
 },
 "nbformat": 4,
 "nbformat_minor": 5
}
