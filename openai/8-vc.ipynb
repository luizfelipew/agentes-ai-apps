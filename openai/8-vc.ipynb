{
 "cells": [
  {
   "cell_type": "code",
   "execution_count": 1,
   "id": "f7045300",
   "metadata": {},
   "outputs": [],
   "source": [
    "import openai\n",
    "from PIL import Image\n",
    "import requests\n",
    "import os\n",
    "from dotenv import load_dotenv\n",
    "\n",
    "load_dotenv()\n",
    "\n",
    "client = openai.Client()\n",
    "openai.api_key = os.getenv(\"OPENAI_API_KEY\")"
   ]
  },
  {
   "cell_type": "markdown",
   "id": "de14aaa1",
   "metadata": {},
   "source": [
    "### Gerar Imagens"
   ]
  },
  {
   "cell_type": "code",
   "execution_count": 3,
   "id": "92a6ef7b",
   "metadata": {},
   "outputs": [],
   "source": [
    "nome=\"robo_praia\"\n",
    "model=\"dall-e-3\"\n",
    "prompt=\"Crie uma imagem de dois rôbos na praia lendo um livro de finaqnças\"\n",
    "size=\"1024x1024\"\n",
    "quality=\"hd\"\n",
    "style=\"vivid\""
   ]
  },
  {
   "cell_type": "code",
   "execution_count": 4,
   "id": "58adca2c",
   "metadata": {},
   "outputs": [],
   "source": [
    "resposta = client.images.generate(\n",
    "    model=model,\n",
    "    prompt=prompt,\n",
    "    size=size,\n",
    "    quality=quality,\n",
    "    style=style,\n",
    "    n=1\n",
    ")"
   ]
  },
  {
   "cell_type": "code",
   "execution_count": 6,
   "id": "ee4165ef",
   "metadata": {},
   "outputs": [
    {
     "data": {
      "text/plain": [
       "'Generate an image of two robots on a beach, engrossed in reading a finance book. The robotic entities are designed with a futuristic aesthetic. One has a smooth metallic body that gleams in the daytime sun while the other has a rugged, rustic exterior that exudes an old-world charm. The ocean waves gently lap against the shore in the background, creating a serene ambiance. The finance book they are deeply absorbed in is visible with bar graphs and pie charts on the pages. The setting sun provides a warm hue to the overall scene.'"
      ]
     },
     "execution_count": 6,
     "metadata": {},
     "output_type": "execute_result"
    }
   ],
   "source": [
    "resposta.data[0].revised_prompt"
   ]
  },
  {
   "cell_type": "code",
   "execution_count": 7,
   "id": "86239922",
   "metadata": {},
   "outputs": [],
   "source": [
    "nome_arquivo = f\"files/{nome}_{model}_{quality}_{style}.png\"\n",
    "image_url = resposta.data[0].url\n",
    "image_data = requests.get(image_url).content\n",
    "with open(nome_arquivo, 'wb') as f:\n",
    "    f.write(image_data)"
   ]
  },
  {
   "cell_type": "markdown",
   "id": "3754235f",
   "metadata": {},
   "source": [
    "### Image to Text"
   ]
  },
  {
   "cell_type": "code",
   "execution_count": 11,
   "id": "991ff488",
   "metadata": {},
   "outputs": [],
   "source": [
    "resposta = client.chat.completions.create(\n",
    "    model=\"gpt-4o-mini\",\n",
    "    messages=[\n",
    "        {\n",
    "            \"role\": \"user\",\n",
    "            \"content\": [\n",
    "                {\"type\": \"text\", \"text\": \"Descreva a imagem fornecida.\"},\n",
    "                {\"type\": \"image_url\", \"image_url\": \n",
    "                    {\n",
    "                        \"url\": \"https://www.maladeaventuras.com/wp-content/uploads/2019/05/praia-do-espelho.jpg\"}\n",
    "                    }\n",
    "            ]\n",
    "        }\n",
    "    ]\n",
    ")"
   ]
  },
  {
   "cell_type": "code",
   "execution_count": 12,
   "id": "361e4d61",
   "metadata": {},
   "outputs": [
    {
     "data": {
      "text/plain": [
       "'A imagem mostra uma bela paisagem de praia com águas turquoise e areia clara. À esquerda, há vegetação verde, possivelmente árvores ou arbustos, que emolduram a cena. A praia se curva suavemente, com algumas pessoas caminhando ou se divertindo na areia. No fundo, montanhas ou colinas cobertas de vegetação formam o horizonte, e o céu está limpo, com algumas nuvens brancas esparsas. A atmosfera é tranquila e convidativa, típica de um destino tropical.'"
      ]
     },
     "execution_count": 12,
     "metadata": {},
     "output_type": "execute_result"
    }
   ],
   "source": [
    "resposta.choices[0].message.content"
   ]
  },
  {
   "cell_type": "markdown",
   "id": "89bfa1fe",
   "metadata": {},
   "source": [
    "### Extraia placa de carro "
   ]
  },
  {
   "cell_type": "code",
   "execution_count": 14,
   "id": "4da44883",
   "metadata": {},
   "outputs": [],
   "source": [
    "texto = \"Qual é a placa? Devolva apenas a placa!\""
   ]
  },
  {
   "cell_type": "code",
   "execution_count": 21,
   "id": "39ebea46",
   "metadata": {},
   "outputs": [],
   "source": [
    "resposta = client.chat.completions.create(\n",
    "    model=\"gpt-4o-mini\",\n",
    "    messages=[\n",
    "        {\n",
    "            \"role\": \"user\",\n",
    "            \"content\": [\n",
    "                {\"type\": \"text\", \"text\": texto},\n",
    "                {\"type\": \"image_url\", \"image_url\": \n",
    "                    {\n",
    "                        \"url\": \"https://www.shutterstock.com/shutterstock/photos/2161692671/display_1500/stock-photo-salvador-bahia-brazil-may-mercosur-vehicle-identification-plate-is-seen-in-a-parked-2161692671.jpg\"}\n",
    "                    }\n",
    "            ]\n",
    "        }\n",
    "    ],\n",
    "    max_tokens=1000\n",
    ")"
   ]
  },
  {
   "cell_type": "code",
   "execution_count": 22,
   "id": "6f0b5206",
   "metadata": {},
   "outputs": [
    {
     "data": {
      "text/plain": [
       "'QNA4B79'"
      ]
     },
     "execution_count": 22,
     "metadata": {},
     "output_type": "execute_result"
    }
   ],
   "source": [
    "resposta.choices[0].message.content"
   ]
  },
  {
   "cell_type": "markdown",
   "id": "0944d5d6",
   "metadata": {},
   "source": [
    "### OCR"
   ]
  },
  {
   "cell_type": "code",
   "execution_count": 23,
   "id": "7821b989",
   "metadata": {},
   "outputs": [],
   "source": [
    "texto = \"O que está escrito na imagem\""
   ]
  },
  {
   "cell_type": "code",
   "execution_count": null,
   "id": "825b93f3",
   "metadata": {},
   "outputs": [],
   "source": [
    "resposta = client.chat.completions.create(\n",
    "    model=\"gpt-4o-mini\",\n",
    "    messages=[\n",
    "        {\n",
    "            \"role\": \"user\",\n",
    "            \"content\": [\n",
    "                {\"type\": \"text\", \"text\": texto},\n",
    "                {\"type\": \"image_url\", \"image_url\": \n",
    "                    {\n",
    "                        \"url\": \"https://global.discourse-cdn.com/nubank/original/4X/f/d/9/fd9d5d08ac3a69ec22a06b78ac590ac7c723b938.jpeg\"}\n",
    "                    }\n",
    "            ]\n",
    "        }\n",
    "    ],\n",
    "    max_tokens=1000\n",
    ")"
   ]
  }
 ],
 "metadata": {
  "kernelspec": {
   "display_name": ".venv (3.13.2)",
   "language": "python",
   "name": "python3"
  },
  "language_info": {
   "codemirror_mode": {
    "name": "ipython",
    "version": 3
   },
   "file_extension": ".py",
   "mimetype": "text/x-python",
   "name": "python",
   "nbconvert_exporter": "python",
   "pygments_lexer": "ipython3",
   "version": "3.13.2"
  }
 },
 "nbformat": 4,
 "nbformat_minor": 5
}
